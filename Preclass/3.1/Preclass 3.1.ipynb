{
 "cells": [
  {
   "cell_type": "code",
   "execution_count": 1,
   "metadata": {
    "collapsed": false
   },
   "outputs": [],
   "source": [
    "%matplotlib inline\n",
    "\n",
    "import sklearn\n",
    "from sklearn.model_selection import cross_val_predict, cross_validate\n",
    "from sklearn import linear_model\n",
    "import matplotlib.pyplot as plt\n",
    "\n",
    "import pandas as pd\n",
    "from pandas.plotting import scatter_matrix\n",
    "import numpy as np\n",
    "from sklearn_pandas import DataFrameMapper\n",
    "from sklearn.model_selection import train_test_split\n",
    "\n",
    "from sklearn.metrics import mean_squared_error\n",
    "from sklearn import metrics"
   ]
  },
  {
   "cell_type": "markdown",
   "metadata": {},
   "source": [
    "## Regression"
   ]
  },
  {
   "cell_type": "code",
   "execution_count": 14,
   "metadata": {
    "collapsed": false
   },
   "outputs": [
    {
     "data": {
      "text/html": [
       "<div>\n",
       "<style scoped>\n",
       "    .dataframe tbody tr th:only-of-type {\n",
       "        vertical-align: middle;\n",
       "    }\n",
       "\n",
       "    .dataframe tbody tr th {\n",
       "        vertical-align: top;\n",
       "    }\n",
       "\n",
       "    .dataframe thead th {\n",
       "        text-align: right;\n",
       "    }\n",
       "</style>\n",
       "<table border=\"1\" class=\"dataframe\">\n",
       "  <thead>\n",
       "    <tr style=\"text-align: right;\">\n",
       "      <th></th>\n",
       "      <th>total_followers</th>\n",
       "      <th>type</th>\n",
       "      <th>category</th>\n",
       "      <th>month</th>\n",
       "      <th>weekday</th>\n",
       "      <th>hour</th>\n",
       "      <th>paid</th>\n",
       "      <th>comment</th>\n",
       "      <th>like</th>\n",
       "      <th>share</th>\n",
       "    </tr>\n",
       "  </thead>\n",
       "  <tbody>\n",
       "    <tr>\n",
       "      <th>0</th>\n",
       "      <td>124050</td>\n",
       "      <td>Photo</td>\n",
       "      <td>3</td>\n",
       "      <td>6</td>\n",
       "      <td>4</td>\n",
       "      <td>17</td>\n",
       "      <td>1</td>\n",
       "      <td>3</td>\n",
       "      <td>77</td>\n",
       "      <td>16</td>\n",
       "    </tr>\n",
       "    <tr>\n",
       "      <th>1</th>\n",
       "      <td>132556</td>\n",
       "      <td>Photo</td>\n",
       "      <td>2</td>\n",
       "      <td>8</td>\n",
       "      <td>3</td>\n",
       "      <td>24</td>\n",
       "      <td>0</td>\n",
       "      <td>11</td>\n",
       "      <td>313</td>\n",
       "      <td>50</td>\n",
       "    </tr>\n",
       "    <tr>\n",
       "      <th>2</th>\n",
       "      <td>92786</td>\n",
       "      <td>Photo</td>\n",
       "      <td>2</td>\n",
       "      <td>2</td>\n",
       "      <td>6</td>\n",
       "      <td>17</td>\n",
       "      <td>1</td>\n",
       "      <td>2</td>\n",
       "      <td>145</td>\n",
       "      <td>39</td>\n",
       "    </tr>\n",
       "    <tr>\n",
       "      <th>3</th>\n",
       "      <td>135632</td>\n",
       "      <td>Photo</td>\n",
       "      <td>1</td>\n",
       "      <td>9</td>\n",
       "      <td>2</td>\n",
       "      <td>1</td>\n",
       "      <td>0</td>\n",
       "      <td>2</td>\n",
       "      <td>299</td>\n",
       "      <td>49</td>\n",
       "    </tr>\n",
       "    <tr>\n",
       "      <th>4</th>\n",
       "      <td>139540</td>\n",
       "      <td>Link</td>\n",
       "      <td>1</td>\n",
       "      <td>12</td>\n",
       "      <td>3</td>\n",
       "      <td>17</td>\n",
       "      <td>1</td>\n",
       "      <td>7</td>\n",
       "      <td>229</td>\n",
       "      <td>21</td>\n",
       "    </tr>\n",
       "  </tbody>\n",
       "</table>\n",
       "</div>"
      ],
      "text/plain": [
       "   total_followers   type  category  month  weekday  hour  paid  comment  \\\n",
       "0           124050  Photo         3      6        4    17     1        3   \n",
       "1           132556  Photo         2      8        3    24     0       11   \n",
       "2            92786  Photo         2      2        6    17     1        2   \n",
       "3           135632  Photo         1      9        2     1     0        2   \n",
       "4           139540   Link         1     12        3    17     1        7   \n",
       "\n",
       "   like  share  \n",
       "0    77     16  \n",
       "1   313     50  \n",
       "2   145     39  \n",
       "3   299     49  \n",
       "4   229     21  "
      ]
     },
     "execution_count": 14,
     "metadata": {},
     "output_type": "execute_result"
    }
   ],
   "source": [
    "data = pd.read_csv(\"facebook_train.csv\")\n",
    "data.head()"
   ]
  },
  {
   "cell_type": "code",
   "execution_count": 15,
   "metadata": {
    "collapsed": false
   },
   "outputs": [],
   "source": [
    "mapper = DataFrameMapper([\n",
    "     (['category'], sklearn.preprocessing.OneHotEncoder()),\n",
    "     (['month'], sklearn.preprocessing.OneHotEncoder()),\n",
    "     (['weekday'], sklearn.preprocessing.OneHotEncoder()),\n",
    "     (['hour'], None),#sklearn.preprocessing.OneHotEncoder()),\n",
    "     (\"type\", sklearn.preprocessing.LabelBinarizer()),\n",
    "     ([\"total_followers\"], sklearn.preprocessing.StandardScaler()),\n",
    "     (\"paid\", None),\n",
    "#      (\"comment\", None),\n",
    "#      (\"share\", None)\n",
    "], df_out=True)\n",
    "processed_data = mapper.fit_transform(data.copy())\n",
    "\n",
    "pred_target = \"like\"\n",
    "\n",
    "# Select features\n",
    "exclude = [pred_target, \"comment\", \"share\"]\n",
    "features = list(set(list(processed_data)) - set(exclude))"
   ]
  },
  {
   "cell_type": "code",
   "execution_count": 16,
   "metadata": {
    "collapsed": false
   },
   "outputs": [
    {
     "name": "stdout",
     "output_type": "stream",
     "text": [
      "(1, -0.26625000000000004)\n",
      "(2, -0.295)\n",
      "(3, -0.2525)\n",
      "(4, -0.265)\n",
      "(5, -0.29625)\n",
      "(6, -0.33875)\n",
      "(7, -0.33999999999999997)\n",
      "(8, -0.36)\n",
      "(9, -0.3925)\n",
      "(10, -0.3975)\n",
      "(11, -0.41875)\n",
      "(12, -0.43124999999999997)\n",
      "(13, -0.42874999999999996)\n",
      "(14, -0.42875)\n"
     ]
    }
   ],
   "source": [
    "x, x_test, y, y_test = train_test_split(data, data.like, test_size=0.2)\n",
    "lr = linear_model.LinearRegression()\n",
    "\n",
    "# Pipeline will process data, then select the k best features, \n",
    "# then fit a linear model using these features. This will be evaluated using\n",
    "# cross validating with 8 folds.\n",
    "pipe = sklearn.pipeline.Pipeline([\n",
    "    ('process', mapper),\n",
    "    ('select', sklearn.feature_selection.SelectKBest(sklearn.feature_selection.f_regression)),\n",
    "    ('lm', sklearn.linear_model.Lasso(alpha=0.02))])\n",
    "\n",
    "for k in range(1, 15):\n",
    "    pipe.set_params(select__k=k)\n",
    "    cv_scores = np.round(cross_validate(pipe, X=x, y=y, cv=8)[\"test_score\"], 2)\n",
    "    print (k, np.average(cv_scores))"
   ]
  },
  {
   "cell_type": "code",
   "execution_count": 17,
   "metadata": {
    "collapsed": false
   },
   "outputs": [
    {
     "name": "stdout",
     "output_type": "stream",
     "text": [
      "mean_squared_error: 106404.805671\n",
      "mean_absolute_error: 184.995811873\n",
      "median_absolute_error: 130.174005017\n",
      "r2_score: -9.09081313051\n",
      "True category_2\n",
      "True category_1\n",
      "True category_0\n",
      "False type_Photo\n",
      "False type_Status\n",
      "False month_10\n",
      "False month_11\n",
      "False month_4\n",
      "False month_5\n",
      "True month_6\n",
      "False month_7\n",
      "False month_0\n",
      "False month_1\n",
      "False month_2\n",
      "False month_3\n",
      "False month_8\n",
      "False month_9\n",
      "False type_Video\n",
      "False paid\n",
      "False weekday_2\n",
      "False weekday_3\n",
      "False weekday_0\n",
      "False weekday_1\n",
      "False weekday_6\n",
      "False weekday_4\n",
      "False hour\n",
      "False weekday_5\n",
      "False type_Link\n",
      "True total_followers\n"
     ]
    },
    {
     "data": {
      "text/plain": [
       "array([-110.76000638,   -0.        ,   25.44104421,  150.87244067,\n",
       "        121.41190235])"
      ]
     },
     "execution_count": 17,
     "metadata": {},
     "output_type": "execute_result"
    }
   ],
   "source": [
    "pipe.set_params(select__k=5)\n",
    "pipe.fit(x, y)\n",
    "\n",
    "predictions = pipe.predict(x_test)\n",
    "metrics_to_run = [metrics.mean_squared_error, metrics.mean_absolute_error, metrics.median_absolute_error, metrics.r2_score]\n",
    "for metric in metrics_to_run: \n",
    "    print(\"{}: {}\".format(metric.__name__, metric(predictions, y_test)))\n",
    "    \n",
    "selected_features = pipe.named_steps['select'].get_support()\n",
    "for selected, feature in zip(selected_features, features):\n",
    "    print selected, feature\n",
    "\n",
    "pipe.named_steps['lm'].coef_"
   ]
  },
  {
   "cell_type": "code",
   "execution_count": null,
   "metadata": {
    "collapsed": false
   },
   "outputs": [],
   "source": [
    "test_data = pd.read_csv(\"facebook_test_2.csv\")\n",
    "\n",
    "mapper = DataFrameMapper([\n",
    "     (['category'], sklearn.preprocessing.OneHotEncoder()),\n",
    "     (['month'], sklearn.preprocessing.OneHotEncoder()),\n",
    "     (['weekday'], sklearn.preprocessing.OneHotEncoder()),\n",
    "     (['hour'], None),#sklearn.preprocessing.OneHotEncoder()),\n",
    "     (\"type\", sklearn.preprocessing.LabelBinarizer()),\n",
    "     ([\"total_followers\"], sklearn.preprocessing.StandardScaler()),\n",
    "     (\"paid\", None)\n",
    "], df_out=True)\n",
    "\n",
    "processed_test_data = mapper.fit_transform(test_data.copy())\n",
    "predicted = pipe.named_steps['lm'].predict(processed_test_data[[\"category_2\", \"category_0\", \"month_0\", \"month_11\", \"total_followers\"]])\n",
    "# processed_test_data.head()\n",
    "metrics_to_run = [metrics.mean_squared_error, metrics.mean_absolute_error, metrics.median_absolute_error, metrics.r2_score]\n",
    "for metric in metrics_to_run: \n",
    "    print(metric.__name__, metric(predicted, test_data[\"like\"]))"
   ]
  },
  {
   "cell_type": "markdown",
   "metadata": {},
   "source": [
    "## Classifier"
   ]
  },
  {
   "cell_type": "code",
   "execution_count": 18,
   "metadata": {
    "collapsed": false
   },
   "outputs": [
    {
     "data": {
      "text/html": [
       "<div>\n",
       "<style scoped>\n",
       "    .dataframe tbody tr th:only-of-type {\n",
       "        vertical-align: middle;\n",
       "    }\n",
       "\n",
       "    .dataframe tbody tr th {\n",
       "        vertical-align: top;\n",
       "    }\n",
       "\n",
       "    .dataframe thead th {\n",
       "        text-align: right;\n",
       "    }\n",
       "</style>\n",
       "<table border=\"1\" class=\"dataframe\">\n",
       "  <thead>\n",
       "    <tr style=\"text-align: right;\">\n",
       "      <th></th>\n",
       "      <th>casualty_class</th>\n",
       "      <th>gender</th>\n",
       "      <th>age</th>\n",
       "      <th>severe</th>\n",
       "      <th>pedestrian_location</th>\n",
       "      <th>pedestrian_movement</th>\n",
       "      <th>travel</th>\n",
       "      <th>year</th>\n",
       "    </tr>\n",
       "  </thead>\n",
       "  <tbody>\n",
       "    <tr>\n",
       "      <th>0</th>\n",
       "      <td>passenger</td>\n",
       "      <td>female</td>\n",
       "      <td>33</td>\n",
       "      <td>False</td>\n",
       "      <td>NaN</td>\n",
       "      <td>NaN</td>\n",
       "      <td>motorbike</td>\n",
       "      <td>2007</td>\n",
       "    </tr>\n",
       "    <tr>\n",
       "      <th>1</th>\n",
       "      <td>passenger</td>\n",
       "      <td>female</td>\n",
       "      <td>20</td>\n",
       "      <td>False</td>\n",
       "      <td>NaN</td>\n",
       "      <td>NaN</td>\n",
       "      <td>car</td>\n",
       "      <td>2005</td>\n",
       "    </tr>\n",
       "    <tr>\n",
       "      <th>2</th>\n",
       "      <td>passenger</td>\n",
       "      <td>male</td>\n",
       "      <td>52</td>\n",
       "      <td>False</td>\n",
       "      <td>NaN</td>\n",
       "      <td>NaN</td>\n",
       "      <td>car</td>\n",
       "      <td>2006</td>\n",
       "    </tr>\n",
       "    <tr>\n",
       "      <th>3</th>\n",
       "      <td>passenger</td>\n",
       "      <td>female</td>\n",
       "      <td>17</td>\n",
       "      <td>False</td>\n",
       "      <td>NaN</td>\n",
       "      <td>NaN</td>\n",
       "      <td>pedestrian</td>\n",
       "      <td>2012</td>\n",
       "    </tr>\n",
       "    <tr>\n",
       "      <th>4</th>\n",
       "      <td>passenger</td>\n",
       "      <td>female</td>\n",
       "      <td>20</td>\n",
       "      <td>False</td>\n",
       "      <td>NaN</td>\n",
       "      <td>NaN</td>\n",
       "      <td>motorbike</td>\n",
       "      <td>2010</td>\n",
       "    </tr>\n",
       "  </tbody>\n",
       "</table>\n",
       "</div>"
      ],
      "text/plain": [
       "  casualty_class  gender age  severe pedestrian_location pedestrian_movement  \\\n",
       "0      passenger  female  33   False                 NaN                 NaN   \n",
       "1      passenger  female  20   False                 NaN                 NaN   \n",
       "2      passenger    male  52   False                 NaN                 NaN   \n",
       "3      passenger  female  17   False                 NaN                 NaN   \n",
       "4      passenger  female  20   False                 NaN                 NaN   \n",
       "\n",
       "       travel  year  \n",
       "0   motorbike  2007  \n",
       "1         car  2005  \n",
       "2         car  2006  \n",
       "3  pedestrian  2012  \n",
       "4   motorbike  2010  "
      ]
     },
     "execution_count": 18,
     "metadata": {},
     "output_type": "execute_result"
    }
   ],
   "source": [
    "cas_data = pd.read_csv(\"casualty_train.csv\")\n",
    "cas_data.head()"
   ]
  },
  {
   "cell_type": "code",
   "execution_count": 19,
   "metadata": {
    "collapsed": false
   },
   "outputs": [
    {
     "data": {
      "text/html": [
       "<div>\n",
       "<style scoped>\n",
       "    .dataframe tbody tr th:only-of-type {\n",
       "        vertical-align: middle;\n",
       "    }\n",
       "\n",
       "    .dataframe tbody tr th {\n",
       "        vertical-align: top;\n",
       "    }\n",
       "\n",
       "    .dataframe thead th {\n",
       "        text-align: right;\n",
       "    }\n",
       "</style>\n",
       "<table border=\"1\" class=\"dataframe\">\n",
       "  <thead>\n",
       "    <tr style=\"text-align: right;\">\n",
       "      <th></th>\n",
       "      <th>casualty_class_driver</th>\n",
       "      <th>casualty_class_passenger</th>\n",
       "      <th>casualty_class_pedestrian</th>\n",
       "      <th>gender</th>\n",
       "      <th>travel_bicycle</th>\n",
       "      <th>travel_bus</th>\n",
       "      <th>travel_car</th>\n",
       "      <th>travel_motorbike</th>\n",
       "      <th>travel_other</th>\n",
       "      <th>travel_pedestrian</th>\n",
       "      <th>travel_taxi</th>\n",
       "      <th>age</th>\n",
       "      <th>year</th>\n",
       "    </tr>\n",
       "  </thead>\n",
       "  <tbody>\n",
       "    <tr>\n",
       "      <th>0</th>\n",
       "      <td>0</td>\n",
       "      <td>1</td>\n",
       "      <td>0</td>\n",
       "      <td>0</td>\n",
       "      <td>0</td>\n",
       "      <td>0</td>\n",
       "      <td>0</td>\n",
       "      <td>1</td>\n",
       "      <td>0</td>\n",
       "      <td>0</td>\n",
       "      <td>0</td>\n",
       "      <td>33</td>\n",
       "      <td>2007</td>\n",
       "    </tr>\n",
       "    <tr>\n",
       "      <th>1</th>\n",
       "      <td>0</td>\n",
       "      <td>1</td>\n",
       "      <td>0</td>\n",
       "      <td>0</td>\n",
       "      <td>0</td>\n",
       "      <td>0</td>\n",
       "      <td>1</td>\n",
       "      <td>0</td>\n",
       "      <td>0</td>\n",
       "      <td>0</td>\n",
       "      <td>0</td>\n",
       "      <td>20</td>\n",
       "      <td>2005</td>\n",
       "    </tr>\n",
       "    <tr>\n",
       "      <th>2</th>\n",
       "      <td>0</td>\n",
       "      <td>1</td>\n",
       "      <td>0</td>\n",
       "      <td>1</td>\n",
       "      <td>0</td>\n",
       "      <td>0</td>\n",
       "      <td>1</td>\n",
       "      <td>0</td>\n",
       "      <td>0</td>\n",
       "      <td>0</td>\n",
       "      <td>0</td>\n",
       "      <td>52</td>\n",
       "      <td>2006</td>\n",
       "    </tr>\n",
       "    <tr>\n",
       "      <th>3</th>\n",
       "      <td>0</td>\n",
       "      <td>1</td>\n",
       "      <td>0</td>\n",
       "      <td>0</td>\n",
       "      <td>0</td>\n",
       "      <td>0</td>\n",
       "      <td>0</td>\n",
       "      <td>0</td>\n",
       "      <td>0</td>\n",
       "      <td>1</td>\n",
       "      <td>0</td>\n",
       "      <td>17</td>\n",
       "      <td>2012</td>\n",
       "    </tr>\n",
       "    <tr>\n",
       "      <th>4</th>\n",
       "      <td>0</td>\n",
       "      <td>1</td>\n",
       "      <td>0</td>\n",
       "      <td>0</td>\n",
       "      <td>0</td>\n",
       "      <td>0</td>\n",
       "      <td>0</td>\n",
       "      <td>1</td>\n",
       "      <td>0</td>\n",
       "      <td>0</td>\n",
       "      <td>0</td>\n",
       "      <td>20</td>\n",
       "      <td>2010</td>\n",
       "    </tr>\n",
       "  </tbody>\n",
       "</table>\n",
       "</div>"
      ],
      "text/plain": [
       "  casualty_class_driver casualty_class_passenger casualty_class_pedestrian  \\\n",
       "0                     0                        1                         0   \n",
       "1                     0                        1                         0   \n",
       "2                     0                        1                         0   \n",
       "3                     0                        1                         0   \n",
       "4                     0                        1                         0   \n",
       "\n",
       "  gender travel_bicycle travel_bus travel_car travel_motorbike travel_other  \\\n",
       "0      0              0          0          0                1            0   \n",
       "1      0              0          0          1                0            0   \n",
       "2      1              0          0          1                0            0   \n",
       "3      0              0          0          0                0            0   \n",
       "4      0              0          0          0                1            0   \n",
       "\n",
       "  travel_pedestrian travel_taxi age  year  \n",
       "0                 0           0  33  2007  \n",
       "1                 0           0  20  2005  \n",
       "2                 0           0  52  2006  \n",
       "3                 1           0  17  2012  \n",
       "4                 0           0  20  2010  "
      ]
     },
     "execution_count": 19,
     "metadata": {},
     "output_type": "execute_result"
    }
   ],
   "source": [
    "cas_data = cas_data.loc[cas_data.age != 'Unknown']\n",
    "cas_data.loc[np.logical_not(cas_data.pedestrian_location == cas_data.pedestrian_location), 'pedestrian_location'] = ''\n",
    "cas_data.loc[np.logical_not(cas_data.pedestrian_movement == cas_data.pedestrian_movement), 'pedestrian_movement'] = ''\n",
    "cas_data.severe = cas_data.severe.astype('int')\n",
    "\n",
    "cas_mapper = DataFrameMapper([\n",
    "     (['casualty_class'], sklearn.preprocessing.LabelBinarizer()),\n",
    "     (['gender'], sklearn.preprocessing.LabelBinarizer()),\n",
    "     (['travel'], sklearn.preprocessing.LabelBinarizer()),\n",
    "     (\"age\", None),\n",
    "     (\"year\", None),\n",
    "], df_out=True)\n",
    "processed_cas_data = cas_mapper.fit_transform(cas_data.copy())\n",
    "\n",
    "pred_target = \"severe\"\n",
    "\n",
    "# Select features\n",
    "exclude = [pred_target]\n",
    "features = list(set(list(processed_cas_data)) - set(exclude))\n",
    "processed_cas_data.head()"
   ]
  },
  {
   "cell_type": "code",
   "execution_count": 50,
   "metadata": {
    "collapsed": false
   },
   "outputs": [
    {
     "name": "stdout",
     "output_type": "stream",
     "text": [
      "(1, 0.5866666666666667)\n",
      "(2, 0.5866666666666667)\n",
      "(3, 0.49)\n",
      "(4, 0.49)\n"
     ]
    }
   ],
   "source": [
    "x, x_test, y, y_test = train_test_split(cas_data, cas_data.severe, test_size=0.1, random_state=3, stratify=list(cas_data.severe))\n",
    "\n",
    "pipe = sklearn.pipeline.Pipeline([\n",
    "    ('process', cas_mapper),\n",
    "    ('select', sklearn.feature_selection.SelectKBest(sklearn.feature_selection.f_classif)),\n",
    "    ('svc', sklearn.svm.LinearSVC(class_weight=\"balanced\"))])\n",
    "\n",
    "for k in range(1, 5):\n",
    "    pipe.set_params(select__k=k)\n",
    "    cv_scores = np.round(cross_validate(pipe, X=x, y=y, cv=3)[\"test_score\"], 2)\n",
    "    print (k, np.average(cv_scores))"
   ]
  },
  {
   "cell_type": "code",
   "execution_count": 51,
   "metadata": {
    "collapsed": false
   },
   "outputs": [
    {
     "name": "stdout",
     "output_type": "stream",
     "text": [
      "accuracy_score: 0.484788329255\n",
      "precision_score: 0.775414717142\n",
      "recall_score: 0.146366920915\n",
      "roc_auc_score: 0.544506510642\n"
     ]
    }
   ],
   "source": [
    "pipe.set_params(select__k=2)\n",
    "pipe.fit(x, y)\n",
    "\n",
    "predictions = pipe.predict(x_test)\n",
    "metrics_to_run = [metrics.accuracy_score, metrics.precision_score, metrics.recall_score, metrics.roc_auc_score]\n",
    "for metric in metrics_to_run: \n",
    "    print(\"{}: {}\".format(metric.__name__, metric(predictions, list(y_test))))\n",
    "    \n",
    "fpr, tpr, thresholds = metrics.roc_curve(y_test, predictions, pos_label=2)"
   ]
  },
  {
   "cell_type": "code",
   "execution_count": 53,
   "metadata": {
    "collapsed": false
   },
   "outputs": [
    {
     "data": {
      "image/png": "[encoded data removed]",
      "text/plain": [
       "<matplotlib.figure.Figure at 0x11238ec50>"
      ]
     },
     "metadata": {},
     "output_type": "display_data"
    }
   ],
   "source": [
    "plt.plot(fpr, tpr)\n",
    "plt.show()"
   ]
  },
  {
   "cell_type": "code",
   "execution_count": 55,
   "metadata": {
    "collapsed": false
   },
   "outputs": [
    {
     "data": {
      "text/plain": [
       "array([nan, nan, nan])"
      ]
     },
     "execution_count": 55,
     "metadata": {},
     "output_type": "execute_result"
    }
   ],
   "source": [
    "tpr"
   ]
  }
 ],
 "metadata": {
  "anaconda-cloud": {},
  "kernelspec": {
   "display_name": "cs156-2.7",
   "language": "python",
   "name": "cs156-2.7"
  },
  "language_info": {
   "codemirror_mode": {
    "name": "ipython",
    "version": 2
   },
   "file_extension": ".py",
   "mimetype": "text/x-python",
   "name": "python",
   "nbconvert_exporter": "python",
   "pygments_lexer": "ipython2",
   "version": "2.7.14"
  }
 },
 "nbformat": 4,
 "nbformat_minor": 0
}
